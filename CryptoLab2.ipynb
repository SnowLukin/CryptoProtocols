{
 "cells": [
  {
   "cell_type": "code",
   "execution_count": 2,
   "metadata": {},
   "outputs": [
    {
     "name": "stdout",
     "output_type": "stream",
     "text": [
      "5\n",
      "7\n"
     ]
    }
   ],
   "source": [
    "def euclid_extended(a, b):\n",
    "    \"\"\"Расширенный алгоритм Евклида.\"\"\"\n",
    "    if a == 0:\n",
    "        return b, 0, 1\n",
    "    else:\n",
    "        gcd, x1, y1 = euclid_extended(b % a, a)\n",
    "        x = y1 - (b // a) * x1\n",
    "        y = x1\n",
    "        return gcd, x, y\n",
    "\n",
    "def euler_phi(m):\n",
    "    \"\"\"Вычисляет значение функции Эйлера.\"\"\"\n",
    "    result = 1\n",
    "    for i in range(2, m):\n",
    "        if euclid_extended(i, m)[0] == 1:\n",
    "            result += 1\n",
    "    return result\n",
    "\n",
    "class ModularExponentiation:\n",
    "    def __init__(self, modulus):\n",
    "        self.modulus = modulus\n",
    "\n",
    "    def add_mod(self, a, b):\n",
    "        \"\"\"Сложение по модулю.\"\"\"\n",
    "        return (a + b) % self.modulus\n",
    "\n",
    "    def mul_mod(self, a, b):\n",
    "        \"\"\"Умножение по модулю.\"\"\"\n",
    "        return (a * b) % self.modulus\n",
    "\n",
    "    def inv_mod(self, a):\n",
    "        \"\"\"Нахождение обратного элемента по модулю.\"\"\"\n",
    "        gcd, x, _ = euclid_extended(a, self.modulus)\n",
    "        if gcd != 1:\n",
    "            raise ValueError(\"Обратный элемент не существует.\")\n",
    "        return x % self.modulus\n",
    "\n",
    "    def pow_mod(self, base, exponent):\n",
    "        \"\"\"Вычисление степени по модулю.\"\"\"\n",
    "        if exponent == 0:\n",
    "            return 1\n",
    "        elif exponent > 0:\n",
    "            # Малая теорема Ферма для положительных степеней\n",
    "            result = 1\n",
    "            for _ in range(exponent):\n",
    "                result = self.mul_mod(result, base)\n",
    "            return result\n",
    "        else:\n",
    "            # Теорема Эйлера для отрицательных степеней\n",
    "            phi = euler_phi(self.modulus)\n",
    "            inv_base = self.inv_mod(base)\n",
    "            positive_exponent = (-exponent) % phi\n",
    "            result = 1\n",
    "            for _ in range(positive_exponent):\n",
    "                result = self.mul_mod(result, inv_base)\n",
    "            return result\n",
    "\n",
    "# Пример использования\n",
    "mod_exp = ModularExponentiation(17) # mod 17\n",
    "print(mod_exp.pow_mod(3, 5))  # 3^5 mod 17\n",
    "print(mod_exp.pow_mod(3, -5))  # 3^(-5) mod 17, используя обратный элемент и теорему Эйлера"
   ]
  }
 ],
 "metadata": {
  "kernelspec": {
   "display_name": "Python 3",
   "language": "python",
   "name": "python3"
  },
  "language_info": {
   "codemirror_mode": {
    "name": "ipython",
    "version": 3
   },
   "file_extension": ".py",
   "mimetype": "text/x-python",
   "name": "python",
   "nbconvert_exporter": "python",
   "pygments_lexer": "ipython3",
   "version": "3.11.8"
  }
 },
 "nbformat": 4,
 "nbformat_minor": 2
}
