{
 "cells": [
  {
   "cell_type": "code",
   "execution_count": 5,
   "metadata": {},
   "outputs": [
    {
     "name": "stdout",
     "output_type": "stream",
     "text": [
      "Текущие значения: gcd=1, x=0, y=1, a=0, b=1\n",
      "Текущие значения: gcd=1, x=1, y=0, a=1, b=3\n",
      "Текущие значения: gcd=1, x=-11, y=1, a=3, b=34\n",
      "Функция Эйлера (phi) для m = 34 равна 16\n",
      "Обратный элемент a по модулю m с использованием функции Эйлера: 23\n",
      "Функция Эйлера: 29\n",
      "Текущие значения: gcd=1, x=0, y=1, a=0, b=1\n",
      "Текущие значения: gcd=1, x=1, y=0, a=1, b=3\n",
      "Текущие значения: gcd=1, x=-11, y=1, a=3, b=34\n",
      "Решение: x = 29 (для i = 0)\n",
      "Расширенный алгоритма Евклида: [29]\n"
     ]
    }
   ],
   "source": [
    "def prime_factors(n):\n",
    "    i = 2\n",
    "    factors = set()\n",
    "    while i * i <= n:\n",
    "        if n % i:\n",
    "            i += 1\n",
    "        else:\n",
    "            n //= i\n",
    "            factors.add(i)\n",
    "    if n > 1:\n",
    "        factors.add(n)\n",
    "    return factors\n",
    "\n",
    "def euler_phi(m):\n",
    "    factors = prime_factors(m)\n",
    "    result = m\n",
    "    for factor in factors:\n",
    "        result *= (1 - 1 / factor)\n",
    "    return int(result)\n",
    "\n",
    "def gcd(a, b):\n",
    "    if a == 0:\n",
    "        print(f\"Текущие значения: gcd={b}, x=0, y=1, a={a}, b={b}\")\n",
    "        return b, 0, 1\n",
    "    else:\n",
    "        gcd_value, x1, y1 = gcd(b % a, a)\n",
    "        x = y1 - (b // a) * x1\n",
    "        y = x1\n",
    "        print(f\"Текущие значения: gcd={gcd_value}, x={x}, y={y}, a={a}, b={b}\")\n",
    "        return gcd_value, x, y\n",
    "    \n",
    "def euler_method(a, b, m):\n",
    "    g, _, _ = gcd(a, m)\n",
    "\n",
    "    if b % g != 0 and g != 1:\n",
    "        print(\"Сравнение не может быть решено.\")\n",
    "        return None\n",
    "\n",
    "    phi_m = euler_phi(m)\n",
    "    print(f\"Функция Эйлера (phi) для m = {m} равна {phi_m}\")\n",
    "    inv_a = pow(a, phi_m - 1, m)\n",
    "    x0 = (inv_a * b) % m\n",
    "    print(f\"Обратный элемент a по модулю m с использованием функции Эйлера: {inv_a}\")\n",
    "    return x0\n",
    "\n",
    "def gcd_method(a, b, m):\n",
    "    g, x, y = gcd(a, m)\n",
    "    solutions = []\n",
    "\n",
    "    if b % g != 0:\n",
    "        print(\"Сравнение не может быть решено.\")\n",
    "        return None\n",
    "\n",
    "    x0 = (x * (b // g)) % m\n",
    "    for i in range(g):\n",
    "        solution = (x0 + i * (m // g)) % m\n",
    "        print(f\"Решение: x = {solution} (для i = {i})\")\n",
    "        solutions.append(solution)\n",
    "    return solutions\n",
    "\n",
    "def modular_linear_equation_solver(a, b, m):\n",
    "    \"\"\"Решение сравнения ax ≡ b (mod m)\"\"\"\n",
    "    \n",
    "    print(f\"Функция Эйлера: {euler_method(a, b, m)}\")\n",
    "    print(f\"Расширенный алгоритма Евклида: {gcd_method(a, b, m)}\")\n",
    "    \n",
    "\n",
    "modular_linear_equation_solver(3, 19, 34)"
   ]
  }
 ],
 "metadata": {
  "kernelspec": {
   "display_name": "Python 3",
   "language": "python",
   "name": "python3"
  },
  "language_info": {
   "codemirror_mode": {
    "name": "ipython",
    "version": 3
   },
   "file_extension": ".py",
   "mimetype": "text/x-python",
   "name": "python",
   "nbconvert_exporter": "python",
   "pygments_lexer": "ipython3",
   "version": "3.11.8"
  }
 },
 "nbformat": 4,
 "nbformat_minor": 2
}
